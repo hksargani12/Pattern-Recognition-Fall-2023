{
  "cells": [
    {
      "cell_type": "code",
      "execution_count": null,
      "metadata": {
        "id": "z6IpE4S1FH5T"
      },
      "outputs": [],
      "source": [
        "import numpy as np\n",
        "import matplotlib.pyplot as plt\n",
        "from sklearn.svm import SVC\n",
        "from sklearn.svm import LinearSVC\n",
        "\n",
        "from sklearn import datasets, metrics, svm\n",
        "from sklearn.metrics import precision_score\n",
        "from sklearn.metrics import recall_score\n",
        "from sklearn.metrics import f1_score\n",
        "from sklearn import metrics\n",
        "\n",
        "from sklearn.preprocessing import label_binarize\n",
        "from sklearn.metrics import roc_curve, auc\n",
        "from itertools import cycle\n",
        "from sklearn.metrics import roc_auc_score\n",
        "\n",
        "from sklearn.decomposition import PCA\n",
        "from sklearn.model_selection import train_test_split\n",
        "from sklearn.metrics import accuracy_score, confusion_matrix, classification_report"
      ]
    },
    {
      "cell_type": "markdown",
      "metadata": {
        "id": "kLlKZD-9RBWk"
      },
      "source": [
        "Data preparation"
      ]
    },
    {
      "cell_type": "code",
      "execution_count": null,
      "metadata": {
        "id": "UhLeGughoiTD"
      },
      "outputs": [],
      "source": [
        "\n",
        "\n",
        "\n",
        "### You have to download data and prepare desired dataset here ###\n"
      ]
    },
    {
      "cell_type": "markdown",
      "metadata": {
        "id": "362-Ggo0OrKf"
      },
      "source": [
        "# Crammer Singer SVM"
      ]
    },
    {
      "cell_type": "markdown",
      "metadata": {
        "id": "7R_sJG5XoiTE"
      },
      "source": [
        "Create three notebooks including implementation using\n",
        "\n",
        "1.   Original data\n",
        "2.   100 components of data\n",
        "3.   40 components of data\n",
        "\n",
        "In the body of the CrammerSinger Class, you have to write appropriate functions in such a way:\n",
        "\n",
        "\n",
        "*   Initialize the parameters\n",
        "*   Kernel, this function calculates the kernel results\n",
        "*   runSVM, in this function you have a control on sequence of your program modules which facilitates the regularization of the code.\n",
        "*   predict, calculates confidence score for each label for sample X and at last returns the predicted label\n",
        "*   train_machine, you have to go step by step within that to train your SVM machine\n",
        "*   example_selection, finds the next sample to work on it\n",
        "*   FixedPointAlgorithm, exactly runs the fixed point algorithm\n",
        "*   calculate_B, calculates B vector for sample p\n",
        "*   visualizePatterns, it is optional and you can visualize the hyperplane and samples in two or three dimentions.\n"
      ]
    },
    {
      "cell_type": "code",
      "execution_count": null,
      "metadata": {
        "id": "Brofam5QRehi"
      },
      "outputs": [],
      "source": [
        "from sklearn.preprocessing import OneHotEncoder"
      ]
    },
    {
      "cell_type": "markdown",
      "metadata": {
        "id": "bBA9ycxux0Kk"
      },
      "source": []
    },
    {
      "cell_type": "code",
      "execution_count": null,
      "metadata": {
        "id": "6PEZso6XSFnl"
      },
      "outputs": [],
      "source": [
        "class CrammerSingerSVM:\n",
        "  def __init__(self,X_train,Y_train,X_test,Y_test,threshold,max_iter,beta=1.0,epsilon=0.001,kernel_function='RBF',gamma='scale',degree=5):\n",
        "    self.beta = beta\n",
        "    self.epsilon = epsilon\n",
        "    self.kernel_function = kernel_function\n",
        "    self.gamma = gamma\n",
        "    self.degree = degree\n",
        "    self.X_train = X_train\n",
        "    self.X_test = X_test\n",
        "    self.Y_test = Y_test\n",
        "    self.threshold = threshold\n",
        "    self.max_iter = max_iter\n",
        "\n",
        "\n",
        "                                                ###  Type here your functions and also complete initialization part ####\n",
        "\n",
        "\n",
        "\n"
      ]
    },
    {
      "cell_type": "code",
      "execution_count": null,
      "metadata": {
        "colab": {
          "background_save": true
        },
        "id": "peMQVeZISOJ0"
      },
      "outputs": [],
      "source": [
        "crammerSinger_instance = CrammerSingerSVM(X_train_pca,y_train,X_test_pca,y_test,threshold=0.0,max_iter = 2000,beta = 1e-6,epsilon =0.01,kernel_function='linear')"
      ]
    },
    {
      "cell_type": "code",
      "execution_count": null,
      "metadata": {
        "colab": {
          "background_save": true
        },
        "id": "E_7ww0gbSQ9P"
      },
      "outputs": [],
      "source": [
        "y_pred_train , y_pred = crammerSinger_instance.runSVM()\n",
        "# y_pred = crammerSinger_instance.runSVM()\n",
        "print(y_pred)"
      ]
    },
    {
      "cell_type": "markdown",
      "metadata": {
        "id": "YKibWjFXoiTF"
      },
      "source": [
        "Metrics"
      ]
    },
    {
      "cell_type": "code",
      "execution_count": null,
      "metadata": {
        "id": "btIn9UUvSWUk"
      },
      "outputs": [],
      "source": [
        "# train_acc = accuracy_score(y_train_subset, train_predicted_labels)\n",
        "test_acc = accuracy_score(y_test, y_pred)\n",
        "# print(train_acc)\n",
        "print(test_acc)"
      ]
    },
    {
      "cell_type": "code",
      "execution_count": null,
      "metadata": {
        "id": "HwNUxbkVSie2"
      },
      "outputs": [],
      "source": [
        "disp = metrics.ConfusionMatrixDisplay.from_predictions(y_test, y_pred)\n",
        "disp.figure_.suptitle(\"Confusion Matrix\")\n",
        "plt.show()\n",
        "\n",
        "# Train Accuracy\n",
        "train_accuracy = accuracy_score(y_train, y_pred_train)\n",
        "print(f\"Train Accuracy: {train_accuracy:.2f}\")\n",
        "# Accuracy\n",
        "accuracy = accuracy_score(y_test, y_pred)\n",
        "print(f\"Accuracy: {accuracy:.2f}\")\n",
        "# precision\n",
        "precision = precision_score(y_test , y_pred , average = 'micro')\n",
        "print(\"precision :\" , precision)\n",
        "# recall\n",
        "recall = recall_score(y_test, y_pred , average='micro')\n",
        "print(\"recall : \" , recall)\n",
        "# F1 score\n",
        "print(\"f1_score: \" , f1_score(y_test, y_pred , average='micro'))"
      ]
    },
    {
      "cell_type": "code",
      "execution_count": null,
      "metadata": {
        "id": "QrCQNKBaSie2"
      },
      "outputs": [],
      "source": [
        "# linear 40 feature vector\n",
        "# binarize the output\n",
        "\n",
        "binarize_prediction_values = label_binarize(y_pred, classes=[0, 1, 2 , 3 , 4 , 5 , 6 , 7 ,8 , 9])\n",
        "binarizes_test_labels = label_binarize(y_test, classes=[0, 1, 2 , 3 , 4 , 5 , 6 , 7 ,8 , 9])\n",
        "n_classes = 10\n",
        "\n",
        "fpr = dict()\n",
        "tpr = dict()\n",
        "roc_auc = dict()\n",
        "lw=2\n",
        "\n",
        "for i in range(n_classes):\n",
        "    fpr[i], tpr[i], _ = roc_curve(binarizes_test_labels[:, i], binarize_prediction_values[:, i])\n",
        "    roc_auc[i] = auc(fpr[i], tpr[i])\n",
        "colors = cycle(['blue', 'red', 'green','purple', 'orange', 'cyan','yellow', 'brown', 'magenta','black'])\n",
        "for i, color in zip(range(n_classes), colors):\n",
        "    plt.plot(fpr[i], tpr[i], color=color, lw=2,\n",
        "             label='ROC curve of class {0} (area = {1:0.2f})'\n",
        "             ''.format(i, roc_auc[i]))\n",
        "plt.plot([0, 1], [0, 1], 'k--', lw=lw)\n",
        "plt.xlim([-0.05, 1.0])\n",
        "plt.ylim([0.0, 1.05])\n",
        "plt.xlabel('False Positive Rate')\n",
        "plt.ylabel('True Positive Rate')\n",
        "plt.title('Receiver operating characteristic for multi-class data')\n",
        "plt.legend(loc=\"lower right\")\n",
        "plt.show()\n",
        "\n",
        "\n",
        "# AUC\n",
        "AUC= roc_auc_score(binarizes_test_labels, binarize_prediction_values , multi_class=\"ovr\", average=\"macro\")\n",
        "print(\"AUC:\" , AUC)"
      ]
    },
    {
      "cell_type": "markdown",
      "metadata": {
        "id": "O8d5KxAAoiTH"
      },
      "source": [
        "One Versus Rest SVM"
      ]
    },
    {
      "cell_type": "code",
      "execution_count": null,
      "metadata": {
        "id": "N7ey3BRNoiTH"
      },
      "outputs": [],
      "source": []
    }
  ],
  "metadata": {
    "colab": {
      "provenance": []
    },
    "kernelspec": {
      "display_name": "Python 3",
      "name": "python3"
    },
    "language_info": {
      "name": "python"
    }
  },
  "nbformat": 4,
  "nbformat_minor": 0
}
